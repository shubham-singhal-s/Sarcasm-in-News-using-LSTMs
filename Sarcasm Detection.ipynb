{
 "cells": [
  {
   "cell_type": "code",
   "execution_count": 1,
   "metadata": {},
   "outputs": [
    {
     "name": "stderr",
     "output_type": "stream",
     "text": [
      "Using TensorFlow backend.\n"
     ]
    }
   ],
   "source": [
    "import json\n",
    "import re\n",
    "import numpy as np\n",
    "import tensorflow as tf\n",
    "import keras"
   ]
  },
  {
   "cell_type": "code",
   "execution_count": 2,
   "metadata": {},
   "outputs": [],
   "source": [
    "# import nltk\n",
    "# nltk.download()"
   ]
  },
  {
   "cell_type": "code",
   "execution_count": 3,
   "metadata": {},
   "outputs": [],
   "source": [
    "x=[]\n",
    "y=[]\n",
    "with open('Sarcasm_Headlines_Dataset.json', 'r') as f:\n",
    "    i=0\n",
    "    for line in f:\n",
    "        json_line = json.loads(line)\n",
    "        x.append(json_line[\"headline\"])\n",
    "        y.append(json_line[\"is_sarcastic\"])\n",
    "        i=i+1"
   ]
  },
  {
   "cell_type": "code",
   "execution_count": 4,
   "metadata": {},
   "outputs": [],
   "source": [
    "# from nltk.corpus import stopwords\n",
    "# stop_words = set(stopwords.words('english')) "
   ]
  },
  {
   "cell_type": "code",
   "execution_count": 16,
   "metadata": {},
   "outputs": [],
   "source": [
    "import nltk\n",
    "from nltk.stem import WordNetLemmatizer\n",
    "wordnet_lemmatizer = WordNetLemmatizer()\n",
    "sno = nltk.stem.SnowballStemmer('english')"
   ]
  },
  {
   "cell_type": "code",
   "execution_count": 21,
   "metadata": {},
   "outputs": [
    {
     "data": {
      "text/plain": [
       "['leaf']"
      ]
     },
     "execution_count": 21,
     "metadata": {},
     "output_type": "execute_result"
    }
   ],
   "source": [
    "words = nltk.word_tokenize(\"leaves\")\n",
    "words = [wordnet_lemmatizer.lemmatize(word, pos=\"n\") for word in words]\n",
    "[sno.stem(word) for word in words]"
   ]
  },
  {
   "cell_type": "code",
   "execution_count": 6,
   "metadata": {},
   "outputs": [],
   "source": [
    "for i in range(len(x)):\n",
    "    x[i] = nltk.word_tokenize(x[i])\n",
    "    punctuations=\"?:!.,;\"\n",
    "    for word in x[i]:\n",
    "        if word in punctuations:\n",
    "            x[i].remove(word)\n",
    "    x[i] = [wordnet_lemmatizer.lemmatize(word, pos=\"v\") for word in x[i]]"
   ]
  },
  {
   "cell_type": "code",
   "execution_count": 7,
   "metadata": {},
   "outputs": [],
   "source": [
    "# for i in range(len(x)):\n",
    "#    #x[i]=re.split(\"(\\W)\",x[i].lower())\n",
    "#     x[i]=re.split(\"(\\s)\",x[i].lower())\n",
    "#     x[i] = [a for a in x[i] if a != ' ']\n",
    "#     x[i] = [a for a in x[i] if a != '']\n",
    "#     x[i] = [a for a in x[i] if a != ',']\n",
    "#     x[i] = [a for a in x[i] if a != '.']\n",
    "#     x[i] = [a for a in x[i] if a != '-']\n",
    "#     #x[i] = [a for a in x[i] if a != \"'\"]\n",
    "#     #x[i] = [a for a in x[i] if a not in stop_words]"
   ]
  },
  {
   "cell_type": "code",
   "execution_count": 8,
   "metadata": {},
   "outputs": [
    {
     "data": {
      "text/plain": [
       "[['classmates.com',\n",
       "  'employees',\n",
       "  'do',\n",
       "  \"n't\",\n",
       "  'have',\n",
       "  'heart',\n",
       "  'to',\n",
       "  'tell',\n",
       "  'ceo',\n",
       "  'about',\n",
       "  'facebook'],\n",
       " ['woman',\n",
       "  'unaware',\n",
       "  'she',\n",
       "  \"'s\",\n",
       "  'only',\n",
       "  'person',\n",
       "  'on',\n",
       "  'acid',\n",
       "  'at',\n",
       "  'jam',\n",
       "  'taylor',\n",
       "  'concert']]"
      ]
     },
     "execution_count": 8,
     "metadata": {},
     "output_type": "execute_result"
    }
   ],
   "source": [
    "from sklearn.utils import shuffle\n",
    "x, y = shuffle(x, y, random_state=0)\n",
    "x[1:3]"
   ]
  },
  {
   "cell_type": "code",
   "execution_count": 9,
   "metadata": {},
   "outputs": [],
   "source": [
    "y = np.array(y)\n",
    "length = len(sorted(x,key=len, reverse=True)[0])\n",
    "x = np.array([xi+['<end>']+['<pad>']*(length-len(xi)) for xi in x])\n",
    "X_train = x[:3500]\n",
    "Y_train = y[:3500]\n",
    "X_test = x[4000:4500]\n",
    "Y_test = y[4000:4500]\n",
    "X_val = x[3500:4000]\n",
    "Y_val = y[3500:4000]"
   ]
  },
  {
   "cell_type": "code",
   "execution_count": 10,
   "metadata": {},
   "outputs": [],
   "source": [
    "X_train = np.fliplr(X_train)\n",
    "X_test = np.fliplr(X_test)\n",
    "X_val = np.fliplr(X_val)"
   ]
  },
  {
   "cell_type": "code",
   "execution_count": 11,
   "metadata": {},
   "outputs": [],
   "source": [
    "word_list = []\n",
    "word_list.append('<pad>')"
   ]
  },
  {
   "cell_type": "code",
   "execution_count": 12,
   "metadata": {},
   "outputs": [],
   "source": [
    "for i in X_train[:2000]:\n",
    "    for j in i:\n",
    "        if j not in word_list:\n",
    "            word_list.append(j)"
   ]
  },
  {
   "cell_type": "code",
   "execution_count": 13,
   "metadata": {},
   "outputs": [
    {
     "name": "stdout",
     "output_type": "stream",
     "text": [
      "5739\n",
      "5738\n"
     ]
    }
   ],
   "source": [
    "word_list.append('<end>')\n",
    "word_list.append('<unk>')\n",
    "num_words = len(word_list)\n",
    "print(num_words)\n",
    "print(len(set(word_list)))"
   ]
  },
  {
   "cell_type": "code",
   "execution_count": 14,
   "metadata": {},
   "outputs": [],
   "source": [
    "def get_index(s):\n",
    "    if s=='<pad>':\n",
    "        return 0\n",
    "    ind = -1\n",
    "    try:\n",
    "        ind = word_list.index(s)\n",
    "    except:\n",
    "        ind = num_words-1\n",
    "    return ind"
   ]
  },
  {
   "cell_type": "code",
   "execution_count": 15,
   "metadata": {},
   "outputs": [
    {
     "name": "stdout",
     "output_type": "stream",
     "text": [
      "(3500, 42)\n",
      "(3500,)\n"
     ]
    }
   ],
   "source": [
    "X_train, Y_train = shuffle(X_train, Y_train, random_state=0)\n",
    "print(X_train.shape)\n",
    "print(Y_train.shape)"
   ]
  },
  {
   "cell_type": "code",
   "execution_count": 16,
   "metadata": {},
   "outputs": [
    {
     "data": {
      "text/plain": [
       "array(['<pad>', '<pad>', '<pad>', '<pad>', '<pad>', '<pad>', '<pad>',\n",
       "       '<pad>', '<pad>', '<pad>', '<pad>', '<pad>', '<pad>', '<pad>',\n",
       "       '<pad>', '<pad>', '<pad>', '<pad>', '<pad>', '<pad>', '<pad>',\n",
       "       '<pad>', '<pad>', '<pad>', '<pad>', '<pad>', '<pad>', '<pad>',\n",
       "       '<pad>', '<pad>', '<pad>', '<pad>', '<pad>', '<end>', 'again',\n",
       "       'run', 'to', 'plan', 'ahmadinejad', 'mahmoud', 'president',\n",
       "       'ex-iranian'], dtype='<U56')"
      ]
     },
     "execution_count": 16,
     "metadata": {},
     "output_type": "execute_result"
    }
   ],
   "source": [
    "X_train[0]"
   ]
  },
  {
   "cell_type": "code",
   "execution_count": 17,
   "metadata": {},
   "outputs": [],
   "source": [
    "def to_oh(Xi):\n",
    "    return np.array([np.array([get_index(s) for s in a]) for a in Xi])"
   ]
  },
  {
   "cell_type": "code",
   "execution_count": 18,
   "metadata": {},
   "outputs": [],
   "source": [
    "X_train = to_oh(X_train)\n",
    "X_test = to_oh(X_test)\n",
    "X_val = to_oh(X_val)"
   ]
  },
  {
   "cell_type": "code",
   "execution_count": 19,
   "metadata": {},
   "outputs": [],
   "source": [
    "from keras.utils import to_categorical"
   ]
  },
  {
   "cell_type": "code",
   "execution_count": 20,
   "metadata": {},
   "outputs": [],
   "source": [
    "X_train_oh = np.array(list(map(lambda x1: to_categorical(x1, num_classes=num_words), X_train)))\n",
    "X_test_oh = np.array(list(map(lambda x1: to_categorical(x1, num_classes=num_words), X_test)))\n",
    "X_val_oh = np.array(list(map(lambda x1: to_categorical(x1, num_classes=num_words), X_val)))"
   ]
  },
  {
   "cell_type": "code",
   "execution_count": 21,
   "metadata": {},
   "outputs": [
    {
     "name": "stdout",
     "output_type": "stream",
     "text": [
      "(3500, 42, 5739)\n",
      "(3500,)\n"
     ]
    }
   ],
   "source": [
    "print(X_train_oh.shape)\n",
    "print(Y_train.shape)"
   ]
  },
  {
   "cell_type": "code",
   "execution_count": 22,
   "metadata": {},
   "outputs": [
    {
     "data": {
      "text/plain": [
       "array([   0,    0,    0,    0,    0,    0,    0,    0,    0,    0,    0,\n",
       "          0,    0,    0,    0,    0,    0,    0,    0,    0,    0,    0,\n",
       "          0,    0,    0,    0,    0,    0,    0,    0,    0,    0,    0,\n",
       "          1, 1507,  602,   19,  712, 4332, 4333,  183, 4334])"
      ]
     },
     "execution_count": 22,
     "metadata": {},
     "output_type": "execute_result"
    }
   ],
   "source": [
    "X_train[0]"
   ]
  },
  {
   "cell_type": "markdown",
   "metadata": {},
   "source": [
    "model = keras.models.Sequential()\n",
    "model.add(keras.layers.LSTM(X_train.shape[1]))\n",
    "#model.add(keras.layers.LSTM(X_train.shape[1]))\n",
    "model.add(keras.layers.Dense(1, activation='relu'))\n",
    "model.compile(loss='binary_crossentropy', optimizer=keras.optimizers.Adam(lr=0.01), metrics=['accuracy'])\n",
    "#print(model.summary())\n",
    "model.fit(X_train_oh, Y_train, epochs=8, batch_size=128)"
   ]
  },
  {
   "cell_type": "markdown",
   "metadata": {},
   "source": [
    "scores = model.evaluate(X_test_oh, Y_test, verbose=0)\n",
    "print(\"Accuracy: %.2f%%\" % (scores[1]*100))"
   ]
  },
  {
   "cell_type": "code",
   "execution_count": 23,
   "metadata": {},
   "outputs": [],
   "source": [
    "from keras.layers import Dense, Activation, Dropout, Input, LSTM, Reshape, Lambda, RepeatVector, Concatenate\n",
    "from keras.models import load_model, Model\n",
    "from keras.optimizers import Adam\n",
    "from keras.regularizers import l1,l2"
   ]
  },
  {
   "cell_type": "code",
   "execution_count": null,
   "metadata": {},
   "outputs": [
    {
     "name": "stdout",
     "output_type": "stream",
     "text": [
      "Train on 3500 samples, validate on 500 samples\n",
      "Epoch 1/20\n",
      "3500/3500 [==============================] - 54s 15ms/step - loss: 1.0482 - binary_accuracy: 0.5114 - val_loss: 0.6555 - val_binary_accuracy: 0.5720\n",
      "Epoch 2/20\n",
      "3500/3500 [==============================] - 16s 5ms/step - loss: 0.6586 - binary_accuracy: 0.5654 - val_loss: 0.5937 - val_binary_accuracy: 0.7540\n",
      "Epoch 3/20\n",
      "3500/3500 [==============================] - 17s 5ms/step - loss: 0.5220 - binary_accuracy: 0.7260 - val_loss: 0.5441 - val_binary_accuracy: 0.7060\n",
      "Epoch 4/20\n",
      "3500/3500 [==============================] - 16s 5ms/step - loss: 0.4391 - binary_accuracy: 0.8194 - val_loss: 0.5023 - val_binary_accuracy: 0.7720\n",
      "Epoch 5/20\n",
      "3500/3500 [==============================] - 16s 5ms/step - loss: 0.3875 - binary_accuracy: 0.8531 - val_loss: 0.4664 - val_binary_accuracy: 0.7880\n",
      "Epoch 6/20\n",
      "3500/3500 [==============================] - 16s 4ms/step - loss: 0.3388 - binary_accuracy: 0.8711 - val_loss: 0.4409 - val_binary_accuracy: 0.8260\n",
      "Epoch 7/20\n",
      "3500/3500 [==============================] - 16s 5ms/step - loss: 0.3201 - binary_accuracy: 0.8820 - val_loss: 0.4289 - val_binary_accuracy: 0.8200\n",
      "Epoch 8/20\n",
      "3500/3500 [==============================] - 16s 5ms/step - loss: 0.2951 - binary_accuracy: 0.8954 - val_loss: 0.4208 - val_binary_accuracy: 0.8240\n",
      "Epoch 9/20\n",
      "3500/3500 [==============================] - 17s 5ms/step - loss: 0.2732 - binary_accuracy: 0.8997 - val_loss: 0.4168 - val_binary_accuracy: 0.8300\n",
      "Epoch 10/20\n",
      "3500/3500 [==============================] - 16s 5ms/step - loss: 0.2482 - binary_accuracy: 0.9117 - val_loss: 0.4123 - val_binary_accuracy: 0.8300\n",
      "Epoch 11/20\n",
      "3500/3500 [==============================] - 17s 5ms/step - loss: 0.2425 - binary_accuracy: 0.9063 - val_loss: 0.4101 - val_binary_accuracy: 0.8280\n",
      "Epoch 12/20\n",
      "3500/3500 [==============================] - 17s 5ms/step - loss: 0.2307 - binary_accuracy: 0.9157 - val_loss: 0.4090 - val_binary_accuracy: 0.8240\n",
      "Epoch 13/20\n",
      "3500/3500 [==============================] - 17s 5ms/step - loss: 0.2231 - binary_accuracy: 0.9166 - val_loss: 0.4085 - val_binary_accuracy: 0.8340\n",
      "Epoch 14/20\n",
      "3500/3500 [==============================] - 17s 5ms/step - loss: 0.2107 - binary_accuracy: 0.9289 - val_loss: 0.4084 - val_binary_accuracy: 0.8360\n",
      "Epoch 15/20\n",
      "3500/3500 [==============================] - 17s 5ms/step - loss: 0.2137 - binary_accuracy: 0.9197 - val_loss: 0.4090 - val_binary_accuracy: 0.8280\n",
      "Epoch 16/20\n",
      "3500/3500 [==============================] - 17s 5ms/step - loss: 0.2058 - binary_accuracy: 0.9277 - val_loss: 0.4091 - val_binary_accuracy: 0.8280\n",
      "Epoch 17/20\n",
      "3500/3500 [==============================] - 16s 5ms/step - loss: 0.1969 - binary_accuracy: 0.9277 - val_loss: 0.4090 - val_binary_accuracy: 0.8300\n",
      "Epoch 18/20\n",
      "3000/3500 [========================>.....] - ETA: 2s - loss: 0.1957 - binary_accuracy: 0.9243"
     ]
    }
   ],
   "source": [
    "reshapor = Reshape((1, X_train_oh.shape[2]))                        # Used in Step 2.B of djmodel(), below\n",
    "LSTM_cell = LSTM(X_train_oh.shape[1], return_state = True)         # Used in Step 2.C\n",
    "densor = Dense(1, activation='sigmoid') # Used in Step 2.D\n",
    "dropout = Dropout(0.5)\n",
    "X = Input(shape=(X_train_oh.shape[1], X_train_oh.shape[2]))\n",
    "a0 = Input(shape=(X_train_oh.shape[1],), name='a0')\n",
    "c0 = Input(shape=(X_train_oh.shape[1],), name='c0')\n",
    "a = a0\n",
    "c = c0\n",
    "outputs=[]\n",
    "for t in range(X_train_oh.shape[1]):\n",
    "        \n",
    "    # Step 2.A: select the \"t\"th time step vector from X. \n",
    "    x = Lambda(lambda x: X[:,t,:])(X)\n",
    "    # Step 2.B: Use reshapor to reshape x to be (1, n_values) (≈1 line)\n",
    "    x = reshapor(x)\n",
    "    x = dropout(x)\n",
    "    # Step 2.C: Perform one step of the LSTM_cell\n",
    "    a, _, c = LSTM_cell(x, initial_state=[a0, c0])\n",
    "    # Step 2.D: Apply densor to the hidden state output of LSTM_Cell\n",
    "    outputs.append(a)\n",
    "#out = densor(outputs)\n",
    "output = Concatenate()(outputs)\n",
    "output = Reshape([-1])(output)\n",
    "output = dropout(output)\n",
    "out = densor(output)\n",
    "model = Model(inputs=[X,a0,c0],outputs=out)\n",
    "opt = Adam(lr=0.07, decay=0.1475)\n",
    "model.compile(optimizer=opt, loss='binary_crossentropy', metrics=['binary_accuracy'])\n",
    "a0_tr = np.zeros((X_train_oh.shape[0], X_train_oh.shape[1]))\n",
    "c0_tr = np.zeros((X_train_oh.shape[0], X_train_oh.shape[1]))\n",
    "a0_val = np.zeros((X_val_oh.shape[0], X_val_oh.shape[1]))\n",
    "c0_val = np.zeros((X_val_oh.shape[0], X_val_oh.shape[1]))\n",
    "history = model.fit([X_train_oh, a0_tr, c0_tr], Y_train, epochs=20, validation_data=([X_val_oh, a0_val, c0_val], Y_val),batch_size=500)"
   ]
  },
  {
   "cell_type": "code",
   "execution_count": null,
   "metadata": {},
   "outputs": [],
   "source": [
    "a01 = np.zeros((500, X_train_oh.shape[1]))\n",
    "c01 = np.zeros((500, X_train_oh.shape[1]))\n",
    "scores = model.evaluate([X_test_oh, a01, c01], Y_test, verbose=0)\n",
    "print(scores)"
   ]
  },
  {
   "cell_type": "code",
   "execution_count": null,
   "metadata": {},
   "outputs": [],
   "source": [
    "from matplotlib import pyplot"
   ]
  },
  {
   "cell_type": "code",
   "execution_count": null,
   "metadata": {},
   "outputs": [],
   "source": [
    "pyplot.plot(history.history['binary_accuracy'])\n",
    "pyplot.plot(history.history['val_binary_accuracy'])\n",
    "pyplot.title('model train vs validation loss')\n",
    "pyplot.ylabel('loss')\n",
    "pyplot.xlabel('epoch')\n",
    "pyplot.legend(['train', 'validation'], loc='upper right')\n",
    "pyplot.show()"
   ]
  },
  {
   "cell_type": "code",
   "execution_count": null,
   "metadata": {},
   "outputs": [],
   "source": [
    "pyplot.plot(history.history['loss'])\n",
    "pyplot.plot(history.history['val_loss'])\n",
    "pyplot.title('model train vs validation loss')\n",
    "pyplot.ylabel('loss')\n",
    "pyplot.xlabel('epoch')\n",
    "pyplot.legend(['train', 'validation'], loc='upper right')\n",
    "pyplot.show()"
   ]
  },
  {
   "cell_type": "code",
   "execution_count": null,
   "metadata": {},
   "outputs": [],
   "source": []
  }
 ],
 "metadata": {
  "kernelspec": {
   "display_name": "Python(lstm)",
   "language": "python",
   "name": "lstm"
  },
  "language_info": {
   "codemirror_mode": {
    "name": "ipython",
    "version": 3
   },
   "file_extension": ".py",
   "mimetype": "text/x-python",
   "name": "python",
   "nbconvert_exporter": "python",
   "pygments_lexer": "ipython3",
   "version": "3.5.6"
  }
 },
 "nbformat": 4,
 "nbformat_minor": 2
}
